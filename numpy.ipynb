{
 "cells": [
  {
   "cell_type": "markdown",
   "id": "96e3f291-999c-4eee-9dd1-ca461a0451a1",
   "metadata": {},
   "source": [
    "# Numpy  : Numeric Computing libray"
   ]
  },
  {
   "cell_type": "code",
   "execution_count": 1,
   "id": "6c1e6c70-e3e4-4b09-ad17-8143993c2dc8",
   "metadata": {},
   "outputs": [],
   "source": [
    "import numpy as np"
   ]
  },
  {
   "cell_type": "code",
   "execution_count": 2,
   "id": "8ff387d1-8722-43f8-a08b-6c20853eea1c",
   "metadata": {},
   "outputs": [
    {
     "data": {
      "text/plain": [
       "numpy.int32"
      ]
     },
     "execution_count": 2,
     "metadata": {},
     "output_type": "execute_result"
    }
   ],
   "source": [
    "np.int32"
   ]
  },
  {
   "cell_type": "markdown",
   "id": "be8beeea-b9d6-4868-94ac-3a1e3069a22e",
   "metadata": {},
   "source": [
    "#  NUmpy Arrays"
   ]
  },
  {
   "cell_type": "code",
   "execution_count": 6,
   "id": "135ece29-2a5d-4303-a8b8-f33dd03d3287",
   "metadata": {},
   "outputs": [],
   "source": [
    " a = np.array([1,2,3,4,5])"
   ]
  },
  {
   "cell_type": "code",
   "execution_count": 7,
   "id": "09bddb47-9c67-4c74-a083-b534bb1d40c2",
   "metadata": {},
   "outputs": [
    {
     "data": {
      "text/plain": [
       "1"
      ]
     },
     "execution_count": 7,
     "metadata": {},
     "output_type": "execute_result"
    }
   ],
   "source": [
    "a[0]"
   ]
  },
  {
   "cell_type": "code",
   "execution_count": 8,
   "id": "0c4dbb34-4945-47a0-884a-750d616693fd",
   "metadata": {},
   "outputs": [
    {
     "data": {
      "text/plain": [
       "array([2, 3])"
      ]
     },
     "execution_count": 8,
     "metadata": {},
     "output_type": "execute_result"
    }
   ],
   "source": [
    "a[1:3]"
   ]
  },
  {
   "cell_type": "code",
   "execution_count": 10,
   "id": "f8cba567-0480-4051-9a4d-f23c7851b16e",
   "metadata": {},
   "outputs": [
    {
     "data": {
      "text/plain": [
       "array([5, 4, 3, 2, 1])"
      ]
     },
     "execution_count": 10,
     "metadata": {},
     "output_type": "execute_result"
    }
   ],
   "source": [
    "a[::-1]"
   ]
  },
  {
   "cell_type": "code",
   "execution_count": 11,
   "id": "3bec961f-f736-48f1-98a9-cd91c1cff79b",
   "metadata": {},
   "outputs": [
    {
     "data": {
      "text/plain": [
       "(2, 4, 5)"
      ]
     },
     "execution_count": 11,
     "metadata": {},
     "output_type": "execute_result"
    }
   ],
   "source": [
    "a[1],a[3] ,a[-1]\n"
   ]
  },
  {
   "cell_type": "code",
   "execution_count": 14,
   "id": "c09011ef-f2ee-43a8-a184-5261694204d1",
   "metadata": {},
   "outputs": [
    {
     "data": {
      "text/plain": [
       "array([2, 5, 3])"
      ]
     },
     "execution_count": 14,
     "metadata": {},
     "output_type": "execute_result"
    }
   ],
   "source": [
    "a[[1,-1,2]]"
   ]
  },
  {
   "cell_type": "code",
   "execution_count": 15,
   "id": "74761cc1-ab00-4c2c-a85e-e4c72afe7b62",
   "metadata": {},
   "outputs": [
    {
     "data": {
      "text/plain": [
       "dtype('int32')"
      ]
     },
     "execution_count": 15,
     "metadata": {},
     "output_type": "execute_result"
    }
   ],
   "source": [
    "a.dtype"
   ]
  },
  {
   "cell_type": "code",
   "execution_count": 19,
   "id": "d644c8a9-34bb-4d15-b1c7-d690136efbff",
   "metadata": {},
   "outputs": [
    {
     "ename": "SyntaxError",
     "evalue": "invalid syntax. Maybe you meant '==' or ':=' instead of '='? (3489715020.py, line 1)",
     "output_type": "error",
     "traceback": [
      "\u001b[1;36m  Cell \u001b[1;32mIn[19], line 1\u001b[1;36m\u001b[0m\n\u001b[1;33m    b = np.array[[1,2,2], dytype=int32]\u001b[0m\n\u001b[1;37m                          ^\u001b[0m\n\u001b[1;31mSyntaxError\u001b[0m\u001b[1;31m:\u001b[0m invalid syntax. Maybe you meant '==' or ':=' instead of '='?\n"
     ]
    }
   ],
   "source": [
    "b = np.a"
   ]
  },
  {
   "cell_type": "code",
   "execution_count": null,
   "id": "047bbc86-ee65-4da8-9352-3dcbdbe093c8",
   "metadata": {},
   "outputs": [],
   "source": []
  },
  {
   "cell_type": "code",
   "execution_count": null,
   "id": "33835955-02fc-4eb4-b2aa-ca6290262cd0",
   "metadata": {},
   "outputs": [],
   "source": []
  },
  {
   "cell_type": "code",
   "execution_count": null,
   "id": "2b3e44e9-b0a2-4d4c-8c9d-b977980b5677",
   "metadata": {},
   "outputs": [],
   "source": []
  },
  {
   "cell_type": "code",
   "execution_count": null,
   "id": "2c6e9033-72c1-4237-a1c6-c524c599de56",
   "metadata": {},
   "outputs": [],
   "source": []
  }
 ],
 "metadata": {
  "kernelspec": {
   "display_name": "Python 3 (ipykernel)",
   "language": "python",
   "name": "python3"
  },
  "language_info": {
   "codemirror_mode": {
    "name": "ipython",
    "version": 3
   },
   "file_extension": ".py",
   "mimetype": "text/x-python",
   "name": "python",
   "nbconvert_exporter": "python",
   "pygments_lexer": "ipython3",
   "version": "3.12.4"
  }
 },
 "nbformat": 4,
 "nbformat_minor": 5
}
